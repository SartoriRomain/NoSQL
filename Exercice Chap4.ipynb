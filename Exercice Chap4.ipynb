{
 "cells": [
  {
   "cell_type": "code",
   "execution_count": null,
   "metadata": {},
   "outputs": [],
   "source": [
    "# EXERCICE CHAPITRE 4 "
   ]
  },
  {
   "cell_type": "code",
   "execution_count": null,
   "metadata": {},
   "outputs": [],
   "source": [
    "#CRUD OPERATIONS "
   ]
  },
  {
   "cell_type": "code",
   "execution_count": null,
   "metadata": {},
   "outputs": [],
   "source": [
    "# You will continue to work on the MCU network for a while. Who are the 10 fastest in the MCU ? Are they related to each other ?\n",
    "\n",
    "import py2neo\n",
    "graph = py2neo.Graph(\"bolt://localhost:7687\", auth=(\"neo4j\", \"password_tuts\"), name=\"mcu\")\n",
    "\n",
    "query = \"\"\"MATCH (n:Superhero)\n",
    "WHERE (n.Speed) IS NOT NULL\n",
    "RETURN n.name, n.Speed\n",
    "ORDER BY n.Speed DESC\n",
    "LIMIT 10\"\"\"\n",
    "\n",
    "results = graph.run(query)\n",
    "\n",
    "for record in results:\n",
    "    print(record)\n",
    "\n"
   ]
  },
  {
   "cell_type": "code",
   "execution_count": null,
   "metadata": {},
   "outputs": [],
   "source": [
    "# Are they related to each other ?\n",
    "import py2neo\n",
    "graph = py2neo.Graph(\"bolt://localhost:7687\", auth=(\"neo4j\", \"password_tuts\"), name=\"mcu\")\n",
    "\n",
    "query = \"\"\"MATCH (n:Superhero)-[r]-(m:Superhero)\n",
    "WHERE n.name IN ['Black Bolt', 'Stardust', 'Quicksilver', 'Nova', 'Thor', 'Silver Surfer', 'Galactus', 'Dormammu', 'Ego', 'Northstar']\n",
    "AND m.name IN ['Black Bolt', 'Stardust', 'Quicksilver', 'Nova', 'Thor', 'Silver Surfer', 'Galactus', 'Dormammu', 'Ego', 'Northstar']\n",
    "RETURN n.name, m.name\"\"\"\n",
    "\n",
    "results = graph.run(query)\n",
    "\n",
    "for record in results:\n",
    "    print(record)"
   ]
  },
  {
   "cell_type": "code",
   "execution_count": null,
   "metadata": {},
   "outputs": [],
   "source": [
    "#2 How many have collaborated atleast more than 10 times with another superhero?\n",
    "import py2neo\n",
    "graph = py2neo.Graph(\"bolt://localhost:7687\", auth=(\"neo4j\", \"password_tuts\"), name=\"mcu\")\n",
    "\n",
    "query = \"\"\"MATCH (a:Superhero)-[r:RELATION]-(b:Superhero)\n",
    "WHERE r.n_collab >= 10\n",
    "WITH a\n",
    "MATCH (a)-[r:RELATION]-(b:Superhero)\n",
    "WHERE r.n_collab >= 10\n",
    "RETURN COUNT(DISTINCT a)\"\"\"\n",
    "\n",
    "result = graph.run(query).evaluate()\n",
    "print(f\"{result} super héros ont collaboré plus de 10 fois avec un autre super héro\")\n",
    "\n"
   ]
  },
  {
   "cell_type": "code",
   "execution_count": null,
   "metadata": {},
   "outputs": [],
   "source": [
    "#3: Did the weakest of the MCU collaborated with the strongest ?\n",
    "import py2neo\n",
    "graph = py2neo.Graph(\"bolt://localhost:7687\", auth=(\"neo4j\", \"password_tuts\"), name=\"mcu\")\n",
    "\n",
    "query_weakest = \"\"\"MATCH (n:Superhero)\n",
    "WHERE (n.Total) IS NOT NULL\n",
    "RETURN n.name\n",
    "ORDER BY n.Total\n",
    "LIMIT 1\"\"\"\n",
    "result_weakest = graph.run(query_weakest).evaluate()\n",
    "\n",
    "query_strongest = \"\"\"MATCH (n:Superhero)\n",
    "WHERE (n.Total) IS NOT NULL\n",
    "RETURN n.name\n",
    "ORDER BY n.Total DESC\n",
    "LIMIT 1\"\"\"\n",
    "result_strongest = graph.run(query_strongest).evaluate()\n",
    "\n",
    "query_relation = f\"\"\"MATCH (a:Superhero {{name: \"{result_weakest}\"}})-[r:RELATION]-(b:Superhero {{name: \"{result_strongest}\"}})\n",
    "RETURN COUNT(r)\"\"\"\n",
    "result_relation = graph.run(query_relation).evaluate()\n",
    "\n",
    "if result_relation > 0:\n",
    "    print(f\"{result_weakest} a collaboré avec {result_strongest}\")\n",
    "else:\n",
    "    print(f\"{result_weakest} n'a pas collaboré avec {result_strongest}\")\n"
   ]
  },
  {
   "cell_type": "code",
   "execution_count": null,
   "metadata": {},
   "outputs": [],
   "source": [
    "#4 : Give a stats that interests you !\n",
    "import py2neo\n",
    "graph = py2neo.Graph(\"bolt://localhost:7687\", auth=(\"neo4j\", \"password_tuts\"), name=\"mcu\")\n",
    "\n",
    "query = \"\"\"MATCH (n:Superhero)\n",
    "WHERE (n.Strength) IS NOT NULL\n",
    "RETURN n.name, n.Strength\n",
    "ORDER BY n.Strength DESC\n",
    "LIMIT 10\"\"\"\n",
    "\n",
    "results = graph.run(query)\n",
    "\n",
    "for record in results:\n",
    "    print(record)\n",
    "\n"
   ]
  },
  {
   "cell_type": "code",
   "execution_count": null,
   "metadata": {},
   "outputs": [],
   "source": [
    "#5: Create a new db called \"master\". Create a graph from the M1 class with name and random age between 20 and 30, Group of 3 that collab (undirected relation).\n",
    "# puisque je ne connais pas tous les noms des membres de la promo, on se contentera de leurs pseudo sur le groupe Whatsapp\n",
    "names = [\"Romain\", \"Céléstin\", \"abaolbatikh\", \"Werner\", \"Valentin\", \"Carl\", \"Paul\", \"Nathan\", \"Boune\", \"Adrien\",\n",
    "    \"Ines\", \"Oumy\", \"Erik\", \"Julien\", \"Georgiana\", \"Huiyue\", \"SH\", \"Lath\", \"InesZ\"]\n",
    "\n",
    "from neo4j import GraphDatabase\n",
    "import random\n",
    "graph = Graph(\"bolt://localhost:7687\", auth=(\"neo4j\", \"password_tuts\"), name=\"master\")\n",
    "\n",
    "def create_m1_node(name):\n",
    "    age = random.randint(20, 30)\n",
    "    return Node(\"M1\", name=name, age=age)\n",
    "\n",
    "# Create M1 nodes with specific names\n",
    "m1_nodes = [create_m1_node(name) for name in names]\n",
    "\n",
    "# Randomly shuffle the nodes\n",
    "random.shuffle(m1_nodes)\n",
    "\n",
    "# Create collaboration relationships for each person with three others\n",
    "for node in m1_nodes:\n",
    "    # Ensure there are at least 3 other nodes available to collaborate with\n",
    "    available_collaborators = [n for n in m1_nodes if n != node]\n",
    "    random.shuffle(available_collaborators)\n",
    "    collaborators = available_collaborators[:3]\n",
    "    for collaborator in collaborators:\n",
    "        # Ensure that the collaboration relationship is unidirectional\n",
    "        if not graph.exists(Relationship(collaborator, \"COLLABORATE_WITH\", node)):\n",
    "            rel = Relationship(node, \"COLLABORATE_WITH\", collaborator)\n",
    "            graph.create(rel)\n",
    "\n",
    "# Add M1 nodes to the graph\n",
    "for node in m1_nodes:\n",
    "    graph.create(node)\n",
    "       \n",
    "\n"
   ]
  },
  {
   "cell_type": "code",
   "execution_count": null,
   "metadata": {},
   "outputs": [],
   "source": [
    "graph = Graph(\"bolt://localhost:7687\", auth=(\"neo4j\", \"password_tuts\"), name=\"master\")\n",
    "\n",
    "# Romain's name\n",
    "romain_name = \"romain\"\n",
    "\n",
    "# Cypher query to get the age of people Romain collaborates with\n",
    "query = \"\"\"\n",
    "MATCH (g:M1 {name: $romain_name})-[:COLLABORATE_WITH]->(collaborator)\n",
    "RETURN collaborator.name AS collaborator_name, collaborator.age AS collaborator_age\n",
    "\"\"\"\n",
    "\n",
    "# Execute the query\n",
    "result = graph.run(query, romain_name=romain_name)\n",
    "\n",
    "# Retrieve and print the ages of people Romain collaborates with\n",
    "for record in result:\n",
    "    collaborator_name = record[\"collaborator_name\"]\n",
    "    collaborator_age = record[\"collaborator_age\"]\n",
    "    print(f\"{collaborator_name}: {collaborator_age} years old\")\n"
   ]
  },
  {
   "cell_type": "code",
   "execution_count": null,
   "metadata": {},
   "outputs": [],
   "source": [
    "#7: Get nodes with age > 25.\n",
    "query = \"\"\"\n",
    "MATCH (n:M1)\n",
    "WHERE n.age > 25\n",
    "RETURN n.name AS name, n.age AS age\n",
    "\"\"\"\n",
    "\n",
    "# Execute the query\n",
    "result = graph.run(query)\n",
    "\n",
    "# Retrieve and print the nodes with age > 25\n",
    "for record in result:\n",
    "    name = record[\"name\"]\n",
    "    age = record[\"age\"]\n",
    "    print(f\"{name}: {age} years old\")"
   ]
  },
  {
   "cell_type": "code",
   "execution_count": 9,
   "metadata": {},
   "outputs": [],
   "source": [
    "# Real World Application 3\n",
    "#You will work again on pubmed_last_100k.json. The goal in this homework is to insert collaboration data in Neo4j and then study it using cypher queries. \n",
    "#The following questions are meant to guide you through the process.\n",
    "\n",
    "#1 :Each paper has a list of author and affiliations. The first step is to create a node per author with a list of affiliation as attribute. \n",
    "    #If a name appears multiple times consider it as a single person. Create an edge between two authors if they are on the same paper. \n",
    "    #You can use any kind of operation to clean the data before inserting, you decide which preprocessing step is the most convenient.\n",
    "\n",
    "import json\n",
    "import re\n",
    "\n",
    "\n",
    "graph = py2neo.Graph(\"bolt://localhost:7687\", auth=(\"neo4j\", \"password_tuts\"), name=\"pubmed\")\n",
    "with open('pubmed_cleaned.json', 'r') as json_file:\n",
    "    data = json.load(json_file)\n"
   ]
  },
  {
   "cell_type": "code",
   "execution_count": 13,
   "metadata": {},
   "outputs": [],
   "source": [
    "from py2neo import Node\n",
    "\n",
    "\n",
    "graph = py2neo.Graph(\"bolt://localhost:7687\", auth=(\"neo4j\", \"password_tuts\"), name=\"pubmed\")\n",
    "for entry in data:\n",
    "    title = entry['title']\n",
    "    \n",
    "    authors_affiliations = re.findall(r'name ml (.*?), affil str (.*?)\\.', entry['authors'])\n",
    "    \n",
    "    for author, affiliation in authors_affiliations:\n",
    "        author_node = Node(\"Author\", name=author, title=title, affiliation=affiliation)\n",
    "        graph.create(author_node)\n",
    "    \n",
    "    for i in range(len(authors_affiliations)):\n",
    "        for j in range(i + 1, len(authors_affiliations)):\n",
    "            author1 = authors_affiliations[i][0] \n",
    "            author2 = authors_affiliations[j][0] \n",
    "            graph.run(\n",
    "                \"MATCH (a:Author {name: $author1}), (b:Author {name: $author2}) \"\n",
    "                \"CREATE (a)-[:SAME_TITLE]->(b)\",\n",
    "                author1=author1, author2=author2\n",
    "            )"
   ]
  },
  {
   "cell_type": "code",
   "execution_count": null,
   "metadata": {},
   "outputs": [],
   "source": [
    "#2 : How many authors have more than 2 affiliations ?\n",
    "\n",
    "from neo4j import GraphDatabase\n",
    "\n",
    "# Neo4j connection details\n",
    "graph = py2neo.Graph(\"bolt://localhost:7687\", auth=(\"neo4j\", \"password_tuts\"), name=\"pubmed\")\n",
    "\n",
    "query = \"\"\"\n",
    "        MATCH (a:Author)\n",
    "        WHERE size(a.affiliations) > 2\n",
    "        RETURN count(a) AS authorsWithMoreThanTwoAffiliations\n",
    "        \"\"\"\n",
    "\n",
    "# Print the result\n",
    "results = graph.run(query).to_data_frame()\n",
    "print(\"Number of authors with more than two affiliations:\", results)\n"
   ]
  },
  {
   "cell_type": "code",
   "execution_count": null,
   "metadata": {},
   "outputs": [],
   "source": [
    "#3 : Create a density of node degrees. Do you observe a power scale law ? What does it mean ?\n",
    "\n",
    "import matplotlib.pyplot as plt\n",
    "import numpy as np\n",
    "from neo4j import GraphDatabase\n",
    "import pandas as pd\n",
    "\n",
    "graph = py2neo.Graph(\"bolt://localhost:7687\", auth=(\"neo4j\", \"password_tuts\"), name=\"pubmed\")\n",
    "\n",
    "query1 =  \"\"\"\n",
    "MATCH (n)\n",
    "WITH n, size((n)--()) AS degree\n",
    "WITH degree, count(*) AS count\n",
    "RETURN degree, count\n",
    "ORDER BY degree\n",
    "\"\"\"\n",
    "\n",
    "results1 = graph.run(query).to_data_frame()\n",
    "\n",
    "data = pd.DataFrame([dict(record) for record in result])\n",
    "\n",
    "plt.bar(data[\"degree\"], data[\"count\"])\n",
    "plt.xlabel('Degree')\n",
    "plt.ylabel('Count')\n",
    "plt.title('Node Degree Distribution')\n",
    "plt.show()\n",
    "\n"
   ]
  },
  {
   "cell_type": "code",
   "execution_count": null,
   "metadata": {},
   "outputs": [],
   "source": [
    "#4 : Which country has seen the most international collaboration ?\n",
    "\n",
    "from neo4j import GraphDatabase\n",
    "\n",
    "# Neo4j connection details\n",
    "graph = py2neo.Graph(\"bolt://localhost:7687\", auth=(\"neo4j\", \"password_tuts\"), name=\"pubmed\")\n",
    "\n",
    "# Function to execute Cypher query\n",
    "query2 = \"\"\"\n",
    "        // Match authors with affiliations in different countries\n",
    "        MATCH (a:Author)-[:AFFILIATED_WITH]->(aff1:Affiliation),\n",
    "        (b:Author)-[:AFFILIATED_WITH]->(aff2:Affiliation)\n",
    "        WHERE a <> b AND aff1.country <> aff2.country\n",
    "        // Count the collaborations between authors from different countries\n",
    "        WITH aff1.country AS country1, aff2.country AS country2, count(*) AS collaborations\n",
    "        // Aggregate and determine the country with the most collaborations\n",
    "        RETURN country1, country2, collaborations\n",
    "        ORDER BY collaborations DESC\n",
    "        LIMIT 1\n",
    "        \"\"\"\n",
    "        \n",
    "record = result.single()\n",
    "country1 = record[\"country1\"]\n",
    "country2 = record[\"country2\"]\n",
    "collaborations = record[\"collaborations\"]\n",
    "\n",
    "# Print the result\n",
    "print(\"The countries {country1} and {country2} have the most international collaboration with {collaborations} collaborations.\")\n"
   ]
  },
  {
   "cell_type": "code",
   "execution_count": null,
   "metadata": {},
   "outputs": [],
   "source": [
    "# 5 : Who are the top 10 collaborators and what is their affiliation ?\n",
    "\n",
    "graph = py2neo.Graph(\"bolt://localhost:7687\", auth=(\"neo4j\", \"password_tuts\"), name=\"pubmed\")\n",
    "\n",
    "\n",
    "query = \"\"\"\n",
    "MATCH (a:Author)-[:SAME_TITLE]-(:Author)\n",
    "WITH DISTINCT a, COUNT(DISTINCT id(a)) AS collaborations, COLLECT(DISTINCT a.affiliation) AS affiliations\n",
    "ORDER BY collaborations DESC\n",
    "LIMIT 10\n",
    "RETURN a.name AS Author, affiliations[0] AS Affiliation, collaborations\n",
    "\"\"\"\n",
    "\n",
    "results2 = graph.run(query).to_data_frame\n",
    "\n",
    "print(results2)"
   ]
  },
  {
   "cell_type": "code",
   "execution_count": null,
   "metadata": {},
   "outputs": [],
   "source": [
    "# 6 \n",
    "# Compter le nombre de papier en économie écris en france\n",
    "\n",
    "from neo4j import GraphDatabase\n",
    "\n",
    "# Neo4j connection details\n",
    "graph = py2neo.Graph(\"bolt://localhost:7687\", auth=(\"neo4j\", \"password_tuts\"), name=\"pubmed\")\n",
    "\n",
    "query = \"\"\"MATCH (a:Author)-[:WRITTEN]->(m:Paper)\n",
    "WHERE toLower(m.domain) CONTAINS 'economy' AND a.country = 'France'\n",
    "RETURN COUNT(DISTINCT m) AS num_papers\n",
    "        \"\"\"\n",
    "results3 = graph.run(query).to_data_frame\n",
    "\n",
    "print(results3)\n"
   ]
  },
  {
   "cell_type": "code",
   "execution_count": 15,
   "metadata": {},
   "outputs": [],
   "source": [
    "# Real World Application 4\n",
    "#1) How many actors played in more than 2 movie ? Get their names and year they were born.\n",
    "\n",
    "import py2neo\n",
    "\n",
    "graph = py2neo.Graph(\"bolt://localhost:7687\", auth=(\"neo4j\", \"password_tuts\"), name=\"movie\")  \n"
   ]
  },
  {
   "cell_type": "code",
   "execution_count": 25,
   "metadata": {},
   "outputs": [
    {
     "name": "stdout",
     "output_type": "stream",
     "text": [
      "15 actors played in more than 2 movies\n",
      "Hugo Weaving 1960\n",
      "Laurence Fishburne 1961\n",
      "Carrie-Anne Moss 1967\n",
      "Keanu Reeves 1964\n",
      "Cuba Gooding Jr. 1968\n",
      "Kevin Bacon 1958\n",
      "Jack Nicholson 1937\n",
      "Tom Cruise 1962\n",
      "Meg Ryan 1961\n",
      "Helen Hunt 1963\n",
      "Robin Williams 1951\n",
      "Tom Hanks 1956\n",
      "Gene Hackman 1930\n",
      "Ben Miles 1967\n",
      "Bill Paxton 1955\n"
     ]
    }
   ],
   "source": [
    "query = \"\"\" MATCH (a:Person)-[:ACTED_IN]->(m:Movie)\n",
    "WITH a, count(m) as num_movies\n",
    "WHERE num_movies > 2\n",
    "RETURN a.name, a.born \"\"\"\n",
    "\n",
    "results = graph.run(query).to_data_frame()\n",
    "print(len(results), \"actors played in more than 2 movies\")\n",
    "names = results['a.name']\n",
    "born = results['a.born']\n",
    "for i in range(len(results)):\n",
    "    print(names[i], born[i])"
   ]
  },
  {
   "cell_type": "code",
   "execution_count": 26,
   "metadata": {},
   "outputs": [
    {
     "name": "stdout",
     "output_type": "stream",
     "text": [
      "Tom Hanks played in 12 movies\n"
     ]
    }
   ],
   "source": [
    "#2) In how many movies did Tom hanks play ?\n",
    "query = \"\"\" MATCH (a:Person {name: 'Tom Hanks'})-[:ACTED_IN]->(m:Movie)\n",
    "RETURN count(m) \"\"\"\n",
    "\n",
    "results = graph.run(query).to_data_frame()\n",
    "print(\"Tom Hanks played in\", results['count(m)'][0], \"movies\")"
   ]
  },
  {
   "cell_type": "code",
   "execution_count": 27,
   "metadata": {},
   "outputs": [
    {
     "name": "stdout",
     "output_type": "stream",
     "text": [
      "In average actors play in 1.6862745098039222 movies\n"
     ]
    }
   ],
   "source": [
    "#3) In average in how many movies do actors play in ?\n",
    "query = \"\"\" MATCH (a:Person)-[:ACTED_IN]->(m:Movie)\n",
    "WITH a, count(m) as num_movies\n",
    "RETURN avg(num_movies) \"\"\"\n",
    "\n",
    "results = graph.run(query).to_data_frame()\n",
    "print(\"In average actors play in\", results['avg(num_movies)'][0], \"movies\")"
   ]
  },
  {
   "cell_type": "code",
   "execution_count": 28,
   "metadata": {},
   "outputs": [
    {
     "name": "stdout",
     "output_type": "stream",
     "text": [
      "In average there are 4.526315789473684 actors in a movie\n"
     ]
    }
   ],
   "source": [
    "#4) In average how many actors are there in a movie ?\n",
    "\n",
    "query = \"\"\" MATCH (a:Person)-[:ACTED_IN]->(m:Movie)\n",
    "WITH m, count(a) as num_actors\n",
    "RETURN avg(num_actors) \"\"\"\n",
    "\n",
    "results = graph.run(query).to_data_frame()\n",
    "print(\"In average there are\", results['avg(num_actors)'][0], \"actors in a movie\")"
   ]
  },
  {
   "cell_type": "code",
   "execution_count": 29,
   "metadata": {},
   "outputs": [
    {
     "name": "stdout",
     "output_type": "stream",
     "text": [
      "In average there are 1.25 writers in a movie\n"
     ]
    }
   ],
   "source": [
    "#5 ) In average how many writers is needed to write a movie ?\n",
    "query = \"\"\" MATCH (w:Person)-[:WROTE]->(m:Movie)\n",
    "WITH m, count(w) as num_writers\n",
    "RETURN avg(num_writers) \"\"\"\n",
    "\n",
    "results = graph.run(query).to_data_frame()\n",
    "print(\"In average there are\", results['avg(num_writers)'][0], \"writers in a movie\")"
   ]
  },
  {
   "cell_type": "code",
   "execution_count": 34,
   "metadata": {},
   "outputs": [
    {
     "name": "stdout",
     "output_type": "stream",
     "text": [
      "Proportion of writers that also directed the movie is 1.0\n"
     ]
    }
   ],
   "source": [
    "#6) What is the proportion of writers that also directed the movie ?\n",
    "query = \"\"\"\n",
    "MATCH (w:Person)-[:WROTE]->(m:Movie)<-[:DIRECTED]-(d:Person)\n",
    "WHERE w.name = d.name\n",
    "WITH m, count(w) as num_writers, count(d) as num_directors\n",
    "RETURN CASE WHEN num_writers > 0 THEN toFloat(num_directors) / num_writers ELSE 0 END AS proportion\n",
    "\"\"\"\n",
    "\n",
    "results = graph.run(query).to_data_frame()\n",
    "print(\"Proportion of writers that also directed the movie is\", results['proportion'][0])\n"
   ]
  },
  {
   "cell_type": "code",
   "execution_count": 35,
   "metadata": {},
   "outputs": [
    {
     "data": {
      "image/png": "[encoded data removed]",
      "text/plain": [
       "<Figure size 640x480 with 1 Axes>"
      ]
     },
     "metadata": {},
     "output_type": "display_data"
    }
   ],
   "source": [
    "#7) Do an histogram of the year of release for the movies.\n",
    "import seaborn as sns\n",
    "\n",
    "query = \"\"\" MATCH (m:Movie) RETURN m.released as year \"\"\"\n",
    "data = graph.run(query).to_data_frame()\n",
    "ax = sns.histplot(data[\"year\"])\n",
    "ax.title.set_text(\"Histogram of the year of release for the movies\")"
   ]
  },
  {
   "cell_type": "code",
   "execution_count": 36,
   "metadata": {},
   "outputs": [
    {
     "name": "stdout",
     "output_type": "stream",
     "text": [
      "               a.name  num_movies\n",
      "0           Tom Hanks          12\n",
      "1        Keanu Reeves           7\n",
      "2            Meg Ryan           5\n",
      "3      Jack Nicholson           5\n",
      "4        Hugo Weaving           5\n",
      "5    Cuba Gooding Jr.           4\n",
      "6         Kevin Bacon           3\n",
      "7  Laurence Fishburne           3\n",
      "8    Carrie-Anne Moss           3\n",
      "9          Tom Cruise           3\n"
     ]
    }
   ],
   "source": [
    "# 8) Who are the 10 actors with the most movie played in\n",
    "query = \"\"\" MATCH (a:Person)-[:ACTED_IN]->(m:Movie)\n",
    "WITH a, count(m) as num_movies\n",
    "RETURN a.name, num_movies\n",
    "ORDER BY num_movies DESC\n",
    "LIMIT 10 \"\"\"\n",
    "\n",
    "results = graph.run(query).to_data_frame()\n",
    "print(results)"
   ]
  },
  {
   "cell_type": "code",
   "execution_count": 37,
   "metadata": {},
   "outputs": [
    {
     "data": {
      "text/html": [
       "(No data)"
      ],
      "text/plain": [
       "(No data)"
      ]
     },
     "execution_count": 37,
     "metadata": {},
     "output_type": "execute_result"
    }
   ],
   "source": [
    "#9) Delete every movie made by a director of your choosing\n",
    "\n",
    "query = \"\"\" MATCH (d:Person {name: 'Howard Deutch'})-[:DIRECTED]->(m:Movie)\n",
    "DETACH DELETE m \"\"\"\n",
    "\n",
    "graph.run(query)"
   ]
  },
  {
   "cell_type": "code",
   "execution_count": 42,
   "metadata": {},
   "outputs": [
    {
     "name": "stdout",
     "output_type": "stream",
     "text": [
      "Proportion of writers that also acted in the movie is 1.0\n"
     ]
    }
   ],
   "source": [
    "#10)  Give some statistics that you find interesting.\n",
    "query = \"\"\"MATCH (w:Person)-[:WROTE]->(m:Movie)\n",
    "WITH w, count(m) AS num_wrote_movies\n",
    "MATCH (w)-[:ACTED_IN]->(m)\n",
    "WITH w, num_wrote_movies, count(distinct m) AS num_movies_with_actor_role\n",
    "RETURN CASE \n",
    "    WHEN num_wrote_movies > 0 THEN toFloat(num_movies_with_actor_role) / num_wrote_movies \n",
    "    ELSE 0 \n",
    "END AS proportion\n",
    "        \"\"\"\n",
    "\n",
    "results1 = graph.run(query).to_data_frame()\n",
    "print(\"Proportion of writers that also acted in the movie is\", results1['proportion'][0])"
   ]
  },
  {
   "cell_type": "code",
   "execution_count": 45,
   "metadata": {},
   "outputs": [
    {
     "name": "stdout",
     "output_type": "stream",
     "text": [
      "          actor  num_movies_with_keanu\n",
      "0  Hugo Weaving                      3\n"
     ]
    }
   ],
   "source": [
    "#11) Who played the most movies with KR\n",
    "query = \"\"\"\n",
    "        MATCH (k:Person {name: 'Keanu Reeves'})-[:ACTED_IN]->(m:Movie)<-[:ACTED_IN]-(a:Person)\n",
    "        WHERE a <> k\n",
    "        WITH a, count(distinct m) AS num_movies_with_keanu\n",
    "        RETURN a.name AS actor, num_movies_with_keanu\n",
    "        ORDER BY num_movies_with_keanu DESC\n",
    "        LIMIT 1\n",
    "        \"\"\"\n",
    "\n",
    "results2 = graph.run(query).to_data_frame()\n",
    "print(results2)\n",
    "# The actor who played the most movie with KR is hugo weaving with  movies"
   ]
  },
  {
   "cell_type": "code",
   "execution_count": 46,
   "metadata": {},
   "outputs": [],
   "source": [
    "# Real World Application 5\n",
    "\n",
    "graph = py2neo.Graph(\"bolt://localhost:7687\", auth=(\"neo4j\", \"password_tuts\"), name=\"twitch\")\n",
    "graph.delete_all()"
   ]
  },
  {
   "cell_type": "code",
   "execution_count": 50,
   "metadata": {},
   "outputs": [
    {
     "data": {
      "text/plain": [
       "(6549, 6)"
      ]
     },
     "execution_count": 50,
     "metadata": {},
     "output_type": "execute_result"
    }
   ],
   "source": [
    "import pandas as pd\n",
    "import tqdm\n",
    "\n",
    "target = pd.read_csv(\"FR_target.csv\")\n",
    "target = target.drop_duplicates(subset=\"id\")\n",
    "target.shape"
   ]
  },
  {
   "cell_type": "code",
   "execution_count": 51,
   "metadata": {},
   "outputs": [
    {
     "name": "stdout",
     "output_type": "stream",
     "text": [
      "Constraint already exists\n"
     ]
    },
    {
     "name": "stderr",
     "output_type": "stream",
     "text": [
      "6549it [00:01, 4791.34it/s]\n"
     ]
    }
   ],
   "source": [
    "\n",
    "try:\n",
    "    graph.run(\"CREATE CONSTRAINT ON (n:Streamer) ASSERT n.id IS UNIQUE\")\n",
    "except:\n",
    "    print(\"Constraint already exists\")\n",
    "\n",
    "transaction_list = []\n",
    "for row in tqdm.tqdm(target.iterrows()):\n",
    "    id = row[1][\"id\"]\n",
    "    days = row[1][\"days\"]\n",
    "    mature = row[1][\"mature\"]\n",
    "    views= row[1][\"views\"]\n",
    "    partner = row[1][\"partner\"]\n",
    "    new_id = row[1][\"new_id\"]\n",
    "    transaction_list.append({\"id\": id, \"days\": days, \"mature\": mature, \"views\": views, \"partner\": partner, \"new_id\": new_id})\n",
    "    if len(transaction_list) == 1000:\n",
    "        transaction = \"UNWIND $json as data CREATE (n:Streamer) SET n = data\"\n",
    "        graph.run(transaction, json=transaction_list)\n",
    "        transaction_list = []\n",
    "        \n",
    "graph.run(transaction, json=transaction_list)\n",
    "\n",
    "pass"
   ]
  },
  {
   "cell_type": "code",
   "execution_count": 53,
   "metadata": {},
   "outputs": [
    {
     "data": {
      "text/plain": [
       "(112666, 2)"
      ]
     },
     "execution_count": 53,
     "metadata": {},
     "output_type": "execute_result"
    }
   ],
   "source": [
    "edges = pd.read_csv(\"FR_edges.csv\")\n",
    "edges = edges.drop_duplicates()\n",
    "edges.shape"
   ]
  },
  {
   "cell_type": "code",
   "execution_count": 55,
   "metadata": {},
   "outputs": [
    {
     "name": "stderr",
     "output_type": "stream",
     "text": [
      " 10%|█         | 605/5882 [51:00<7:24:54,  5.06s/it] \n"
     ]
    },
    {
     "ename": "ConnectionBroken",
     "evalue": "Failed to read message",
     "output_type": "error",
     "traceback": [
      "\u001b[1;31m---------------------------------------------------------------------------\u001b[0m",
      "\u001b[1;31mConnectionResetError\u001b[0m                      Traceback (most recent call last)",
      "File \u001b[1;32mc:\\Users\\sarto\\anaconda3\\Lib\\site-packages\\py2neo\\wiring.py:117\u001b[0m, in \u001b[0;36mWire.read\u001b[1;34m(self, n)\u001b[0m\n\u001b[0;32m    116\u001b[0m \u001b[38;5;28;01mtry\u001b[39;00m:\n\u001b[1;32m--> 117\u001b[0m     received \u001b[38;5;241m=\u001b[39m \u001b[38;5;28mself\u001b[39m\u001b[38;5;241m.\u001b[39m__socket\u001b[38;5;241m.\u001b[39mrecv(requested)\n\u001b[0;32m    118\u001b[0m \u001b[38;5;28;01mexcept\u001b[39;00m (\u001b[38;5;167;01mIOError\u001b[39;00m, \u001b[38;5;167;01mOSError\u001b[39;00m):\n",
      "\u001b[1;31mConnectionResetError\u001b[0m: [WinError 10054] Une connexion existante a dû être fermée par l’hôte distant",
      "\nDuring handling of the above exception, another exception occurred:\n",
      "\u001b[1;31mBrokenWireError\u001b[0m                           Traceback (most recent call last)",
      "File \u001b[1;32mc:\\Users\\sarto\\anaconda3\\Lib\\site-packages\\py2neo\\client\\bolt.py:156\u001b[0m, in \u001b[0;36mBoltMessageReader.read_message\u001b[1;34m(self)\u001b[0m\n\u001b[0;32m    155\u001b[0m \u001b[38;5;28;01mtry\u001b[39;00m:\n\u001b[1;32m--> 156\u001b[0m     hi, lo \u001b[38;5;241m=\u001b[39m \u001b[38;5;28mself\u001b[39m\u001b[38;5;241m.\u001b[39mwire\u001b[38;5;241m.\u001b[39mread(\u001b[38;5;241m2\u001b[39m)\n\u001b[0;32m    157\u001b[0m \u001b[38;5;28;01mexcept\u001b[39;00m WireError \u001b[38;5;28;01mas\u001b[39;00m error:\n",
      "File \u001b[1;32mc:\\Users\\sarto\\anaconda3\\Lib\\site-packages\\py2neo\\wiring.py:119\u001b[0m, in \u001b[0;36mWire.read\u001b[1;34m(self, n)\u001b[0m\n\u001b[0;32m    118\u001b[0m \u001b[38;5;28;01mexcept\u001b[39;00m (\u001b[38;5;167;01mIOError\u001b[39;00m, \u001b[38;5;167;01mOSError\u001b[39;00m):\n\u001b[1;32m--> 119\u001b[0m     \u001b[38;5;28mself\u001b[39m\u001b[38;5;241m.\u001b[39m__mark_broken(\u001b[38;5;124m\"\u001b[39m\u001b[38;5;124mWire broken\u001b[39m\u001b[38;5;124m\"\u001b[39m)\n\u001b[0;32m    120\u001b[0m \u001b[38;5;28;01melse\u001b[39;00m:\n",
      "File \u001b[1;32mc:\\Users\\sarto\\anaconda3\\Lib\\site-packages\\py2neo\\wiring.py:220\u001b[0m, in \u001b[0;36mWire.__mark_broken\u001b[1;34m(self, message)\u001b[0m\n\u001b[0;32m    219\u001b[0m \u001b[38;5;28mself\u001b[39m\u001b[38;5;241m.\u001b[39m__broken \u001b[38;5;241m=\u001b[39m \u001b[38;5;28;01mTrue\u001b[39;00m\n\u001b[1;32m--> 220\u001b[0m \u001b[38;5;28;01mraise\u001b[39;00m BrokenWireError(message, idle_time\u001b[38;5;241m=\u001b[39midle_time,\n\u001b[0;32m    221\u001b[0m                       bytes_sent\u001b[38;5;241m=\u001b[39m\u001b[38;5;28mself\u001b[39m\u001b[38;5;241m.\u001b[39m__bytes_sent,\n\u001b[0;32m    222\u001b[0m                       bytes_received\u001b[38;5;241m=\u001b[39m\u001b[38;5;28mself\u001b[39m\u001b[38;5;241m.\u001b[39m__bytes_received)\n",
      "\u001b[1;31mBrokenWireError\u001b[0m: Wire broken after 1.4s idle (13798372 bytes sent, 737415 bytes received)",
      "\nThe above exception was the direct cause of the following exception:\n",
      "\u001b[1;31mConnectionBroken\u001b[0m                          Traceback (most recent call last)",
      "Cell \u001b[1;32mIn[55], line 25\u001b[0m\n\u001b[0;32m     23\u001b[0m         it \u001b[38;5;241m+\u001b[39m\u001b[38;5;241m=\u001b[39m\u001b[38;5;241m1\u001b[39m\n\u001b[0;32m     24\u001b[0m         \u001b[38;5;28;01mif\u001b[39;00m it \u001b[38;5;241m%\u001b[39m \u001b[38;5;241m1000\u001b[39m \u001b[38;5;241m==\u001b[39m \u001b[38;5;241m0\u001b[39m:\n\u001b[1;32m---> 25\u001b[0m             graph\u001b[38;5;241m.\u001b[39mrun(transaction, json\u001b[38;5;241m=\u001b[39mtransaction_list)\n\u001b[0;32m     26\u001b[0m             transaction_list \u001b[38;5;241m=\u001b[39m []\n\u001b[0;32m     28\u001b[0m graph\u001b[38;5;241m.\u001b[39mrun(transaction, json\u001b[38;5;241m=\u001b[39mtransaction_list)\n",
      "File \u001b[1;32mc:\\Users\\sarto\\anaconda3\\Lib\\site-packages\\py2neo\\database.py:405\u001b[0m, in \u001b[0;36mGraph.run\u001b[1;34m(self, cypher, parameters, **kwparameters)\u001b[0m\n\u001b[0;32m    395\u001b[0m \u001b[38;5;28;01mdef\u001b[39;00m \u001b[38;5;21mrun\u001b[39m(\u001b[38;5;28mself\u001b[39m, cypher, parameters\u001b[38;5;241m=\u001b[39m\u001b[38;5;28;01mNone\u001b[39;00m, \u001b[38;5;241m*\u001b[39m\u001b[38;5;241m*\u001b[39mkwparameters):\n\u001b[0;32m    396\u001b[0m \u001b[38;5;250m    \u001b[39m\u001b[38;5;124;03m\"\"\" Run a single read/write query within an auto-commit\u001b[39;00m\n\u001b[0;32m    397\u001b[0m \u001b[38;5;124;03m    :class:`~py2neo.Transaction`.\u001b[39;00m\n\u001b[0;32m    398\u001b[0m \n\u001b[1;32m   (...)\u001b[0m\n\u001b[0;32m    403\u001b[0m \u001b[38;5;124;03m    :return:\u001b[39;00m\n\u001b[0;32m    404\u001b[0m \u001b[38;5;124;03m    \"\"\"\u001b[39;00m\n\u001b[1;32m--> 405\u001b[0m     \u001b[38;5;28;01mreturn\u001b[39;00m \u001b[38;5;28mself\u001b[39m\u001b[38;5;241m.\u001b[39mauto()\u001b[38;5;241m.\u001b[39mrun(cypher, parameters, \u001b[38;5;241m*\u001b[39m\u001b[38;5;241m*\u001b[39mkwparameters)\n",
      "File \u001b[1;32mc:\\Users\\sarto\\anaconda3\\Lib\\site-packages\\py2neo\\database.py:992\u001b[0m, in \u001b[0;36mTransaction.run\u001b[1;34m(self, cypher, parameters, **kwparameters)\u001b[0m\n\u001b[0;32m    988\u001b[0m     \u001b[38;5;28;01melse\u001b[39;00m:\n\u001b[0;32m    989\u001b[0m         result \u001b[38;5;241m=\u001b[39m \u001b[38;5;28mself\u001b[39m\u001b[38;5;241m.\u001b[39m_connector\u001b[38;5;241m.\u001b[39mauto_run(cypher, parameters,\n\u001b[0;32m    990\u001b[0m                                           graph_name\u001b[38;5;241m=\u001b[39m\u001b[38;5;28mself\u001b[39m\u001b[38;5;241m.\u001b[39mgraph\u001b[38;5;241m.\u001b[39mname,\n\u001b[0;32m    991\u001b[0m                                           readonly\u001b[38;5;241m=\u001b[39m\u001b[38;5;28mself\u001b[39m\u001b[38;5;241m.\u001b[39mreadonly)\n\u001b[1;32m--> 992\u001b[0m     \u001b[38;5;28mself\u001b[39m\u001b[38;5;241m.\u001b[39m_connector\u001b[38;5;241m.\u001b[39mpull(result, \u001b[38;5;241m-\u001b[39m\u001b[38;5;241m1\u001b[39m)\n\u001b[0;32m    993\u001b[0m     \u001b[38;5;28;01mreturn\u001b[39;00m Cursor(result, hydrant)\n\u001b[0;32m    994\u001b[0m \u001b[38;5;28;01mfinally\u001b[39;00m:\n",
      "File \u001b[1;32mc:\\Users\\sarto\\anaconda3\\Lib\\site-packages\\py2neo\\client\\__init__.py:1434\u001b[0m, in \u001b[0;36mConnector.pull\u001b[1;34m(self, result, n)\u001b[0m\n\u001b[0;32m   1432\u001b[0m cx \u001b[38;5;241m=\u001b[39m \u001b[38;5;28mself\u001b[39m\u001b[38;5;241m.\u001b[39m_reacquire(result\u001b[38;5;241m.\u001b[39mtransaction)\n\u001b[0;32m   1433\u001b[0m \u001b[38;5;28;01mtry\u001b[39;00m:\n\u001b[1;32m-> 1434\u001b[0m     cx\u001b[38;5;241m.\u001b[39mpull(result, n\u001b[38;5;241m=\u001b[39mn)\n\u001b[0;32m   1435\u001b[0m \u001b[38;5;28;01mexcept\u001b[39;00m (ConnectionUnavailable, ConnectionBroken):\n\u001b[0;32m   1436\u001b[0m     \u001b[38;5;28mself\u001b[39m\u001b[38;5;241m.\u001b[39mprune(cx\u001b[38;5;241m.\u001b[39mprofile)\n",
      "File \u001b[1;32mc:\\Users\\sarto\\anaconda3\\Lib\\site-packages\\py2neo\\client\\bolt.py:995\u001b[0m, in \u001b[0;36mBolt4x0.pull\u001b[1;34m(self, result, n, capacity)\u001b[0m\n\u001b[0;32m    993\u001b[0m result\u001b[38;5;241m.\u001b[39mappend(response, final\u001b[38;5;241m=\u001b[39m(n \u001b[38;5;241m==\u001b[39m \u001b[38;5;241m-\u001b[39m\u001b[38;5;241m1\u001b[39m))\n\u001b[0;32m    994\u001b[0m \u001b[38;5;28;01mtry\u001b[39;00m:\n\u001b[1;32m--> 995\u001b[0m     \u001b[38;5;28mself\u001b[39m\u001b[38;5;241m.\u001b[39m_sync(response)\n\u001b[0;32m    996\u001b[0m \u001b[38;5;28;01mexcept\u001b[39;00m BrokenWireError \u001b[38;5;28;01mas\u001b[39;00m error:\n\u001b[0;32m    997\u001b[0m     result\u001b[38;5;241m.\u001b[39mtransaction\u001b[38;5;241m.\u001b[39mmark_broken()\n",
      "File \u001b[1;32mc:\\Users\\sarto\\anaconda3\\Lib\\site-packages\\py2neo\\client\\bolt.py:799\u001b[0m, in \u001b[0;36mBolt1._sync\u001b[1;34m(self, *responses)\u001b[0m\n\u001b[0;32m    797\u001b[0m \u001b[38;5;28mself\u001b[39m\u001b[38;5;241m.\u001b[39msend()\n\u001b[0;32m    798\u001b[0m \u001b[38;5;28;01mfor\u001b[39;00m response \u001b[38;5;129;01min\u001b[39;00m responses:\n\u001b[1;32m--> 799\u001b[0m     \u001b[38;5;28mself\u001b[39m\u001b[38;5;241m.\u001b[39m_wait(response)\n",
      "File \u001b[1;32mc:\\Users\\sarto\\anaconda3\\Lib\\site-packages\\py2neo\\client\\bolt.py:794\u001b[0m, in \u001b[0;36mBolt1._wait\u001b[1;34m(self, response)\u001b[0m\n\u001b[0;32m    787\u001b[0m \u001b[38;5;250m\u001b[39m\u001b[38;5;124;03m\"\"\" Read all incoming responses up to and including a\u001b[39;00m\n\u001b[0;32m    788\u001b[0m \u001b[38;5;124;03mparticular response.\u001b[39;00m\n\u001b[0;32m    789\u001b[0m \n\u001b[0;32m    790\u001b[0m \u001b[38;5;124;03mThis method calls fetch, but does not raise an exception on\u001b[39;00m\n\u001b[0;32m    791\u001b[0m \u001b[38;5;124;03mFAILURE.\u001b[39;00m\n\u001b[0;32m    792\u001b[0m \u001b[38;5;124;03m\"\"\"\u001b[39;00m\n\u001b[0;32m    793\u001b[0m \u001b[38;5;28;01mwhile\u001b[39;00m \u001b[38;5;129;01mnot\u001b[39;00m response\u001b[38;5;241m.\u001b[39mfull() \u001b[38;5;129;01mand\u001b[39;00m \u001b[38;5;129;01mnot\u001b[39;00m response\u001b[38;5;241m.\u001b[39mdone():\n\u001b[1;32m--> 794\u001b[0m     \u001b[38;5;28mself\u001b[39m\u001b[38;5;241m.\u001b[39m_fetch()\n",
      "File \u001b[1;32mc:\\Users\\sarto\\anaconda3\\Lib\\site-packages\\py2neo\\client\\bolt.py:769\u001b[0m, in \u001b[0;36mBolt1._fetch\u001b[1;34m(self)\u001b[0m\n\u001b[0;32m    760\u001b[0m \u001b[38;5;28;01mdef\u001b[39;00m \u001b[38;5;21m_fetch\u001b[39m(\u001b[38;5;28mself\u001b[39m):\n\u001b[0;32m    761\u001b[0m \u001b[38;5;250m    \u001b[39m\u001b[38;5;124;03m\"\"\" Fetch and process the next incoming message.\u001b[39;00m\n\u001b[0;32m    762\u001b[0m \n\u001b[0;32m    763\u001b[0m \u001b[38;5;124;03m    This method does not raise an exception on receipt of a\u001b[39;00m\n\u001b[1;32m   (...)\u001b[0m\n\u001b[0;32m    767\u001b[0m \u001b[38;5;124;03m    failed state into an exception.\u001b[39;00m\n\u001b[0;32m    768\u001b[0m \u001b[38;5;124;03m    \"\"\"\u001b[39;00m\n\u001b[1;32m--> 769\u001b[0m     tag, fields \u001b[38;5;241m=\u001b[39m \u001b[38;5;28mself\u001b[39m\u001b[38;5;241m.\u001b[39mread_message()\n\u001b[0;32m    770\u001b[0m     \u001b[38;5;28;01mif\u001b[39;00m tag \u001b[38;5;241m==\u001b[39m \u001b[38;5;241m0x70\u001b[39m:\n\u001b[0;32m    771\u001b[0m         \u001b[38;5;28mself\u001b[39m\u001b[38;5;241m.\u001b[39m_responses\u001b[38;5;241m.\u001b[39mpopleft()\u001b[38;5;241m.\u001b[39mset_success(\u001b[38;5;241m*\u001b[39m\u001b[38;5;241m*\u001b[39mfields[\u001b[38;5;241m0\u001b[39m])\n",
      "File \u001b[1;32mc:\\Users\\sarto\\anaconda3\\Lib\\site-packages\\py2neo\\client\\bolt.py:696\u001b[0m, in \u001b[0;36mBolt1.read_message\u001b[1;34m(self)\u001b[0m\n\u001b[0;32m    695\u001b[0m \u001b[38;5;28;01mdef\u001b[39;00m \u001b[38;5;21mread_message\u001b[39m(\u001b[38;5;28mself\u001b[39m):\n\u001b[1;32m--> 696\u001b[0m     tag, fields \u001b[38;5;241m=\u001b[39m \u001b[38;5;28mself\u001b[39m\u001b[38;5;241m.\u001b[39m_reader\u001b[38;5;241m.\u001b[39mread_message()\n\u001b[0;32m    697\u001b[0m     \u001b[38;5;28;01mif\u001b[39;00m tag \u001b[38;5;241m==\u001b[39m \u001b[38;5;241m0x71\u001b[39m:\n\u001b[0;32m    698\u001b[0m         \u001b[38;5;66;03m# If a RECORD is received, check for more records\u001b[39;00m\n\u001b[0;32m    699\u001b[0m         \u001b[38;5;66;03m# in the buffer immediately following, and log and\u001b[39;00m\n\u001b[0;32m    700\u001b[0m         \u001b[38;5;66;03m# add them all at the same time\u001b[39;00m\n\u001b[0;32m    701\u001b[0m         \u001b[38;5;28;01mwhile\u001b[39;00m \u001b[38;5;28mself\u001b[39m\u001b[38;5;241m.\u001b[39m_reader\u001b[38;5;241m.\u001b[39mpeek_message() \u001b[38;5;241m==\u001b[39m \u001b[38;5;241m0x71\u001b[39m:\n",
      "File \u001b[1;32mc:\\Users\\sarto\\anaconda3\\Lib\\site-packages\\py2neo\\client\\bolt.py:158\u001b[0m, in \u001b[0;36mBoltMessageReader.read_message\u001b[1;34m(self)\u001b[0m\n\u001b[0;32m    156\u001b[0m     hi, lo \u001b[38;5;241m=\u001b[39m \u001b[38;5;28mself\u001b[39m\u001b[38;5;241m.\u001b[39mwire\u001b[38;5;241m.\u001b[39mread(\u001b[38;5;241m2\u001b[39m)\n\u001b[0;32m    157\u001b[0m \u001b[38;5;28;01mexcept\u001b[39;00m WireError \u001b[38;5;28;01mas\u001b[39;00m error:\n\u001b[1;32m--> 158\u001b[0m     raise_from(ConnectionBroken(\u001b[38;5;124m\"\u001b[39m\u001b[38;5;124mFailed to read message\u001b[39m\u001b[38;5;124m\"\u001b[39m), error)\n\u001b[0;32m    159\u001b[0m \u001b[38;5;28;01melse\u001b[39;00m:\n\u001b[0;32m    160\u001b[0m     \u001b[38;5;28;01mif\u001b[39;00m hi \u001b[38;5;241m==\u001b[39m lo \u001b[38;5;241m==\u001b[39m \u001b[38;5;241m0\u001b[39m:\n\u001b[0;32m    161\u001b[0m         \u001b[38;5;66;03m# We hit a zero chunk...\u001b[39;00m\n",
      "File \u001b[1;32m<string>:3\u001b[0m, in \u001b[0;36mraise_from\u001b[1;34m(value, from_value)\u001b[0m\n",
      "\u001b[1;31mConnectionBroken\u001b[0m: Failed to read message"
     ]
    }
   ],
   "source": [
    "import itertools\n",
    "import tqdm\n",
    "graph = py2neo.Graph(\"bolt://localhost:7687\", auth=(\"neo4j\", \"password_tuts\"), name=\"twitch\")\n",
    "\n",
    "transaction_list = []\n",
    "transaction = \"\"\"UNWIND $json as data\n",
    "    MATCH (a:Streamer),(b:Streamer)\n",
    "    WHERE a.new_id = data.from AND b.new_id = data.to\n",
    "    MERGE (a)-[r:RELATION]->(b)\n",
    "    ON CREATE\n",
    "    SET r.n_collab = 1\n",
    "    ON MATCH\n",
    "    SET r.n_collab = r.n_collab + 1\n",
    "    \"\"\"\n",
    "it = 0\n",
    "for edge in tqdm.tqdm(edges.groupby([\"from\"])):\n",
    "    related_ids = edge[1][\"to\"]\n",
    "    for combi in list(itertools.combinations(related_ids, 2)):\n",
    "        sh1 = combi[0]\n",
    "        sh2 = combi[1]\n",
    "        transaction_list.append({\"from\":sh1,\"to\":sh2})\n",
    "        it +=1\n",
    "        if it % 1000 == 0:\n",
    "            graph.run(transaction, json=transaction_list)\n",
    "            transaction_list = []\n",
    "\n",
    "graph.run(transaction, json=transaction_list)\n",
    "pass"
   ]
  },
  {
   "cell_type": "code",
   "execution_count": null,
   "metadata": {},
   "outputs": [],
   "source": [
    "# 1.Give the IDs of the top 10 streamers that have atleast one collaboration.\n",
    "\n",
    "query = \"\"\" MATCH (n:Streamer)-[r:RELATION]->(m:Streamer)\n",
    "WITH n, count(r) as collab\n",
    "WHERE collab >= 1\n",
    "RETURN n.id as streamer_id, collab\n",
    "ORDER BY collab DESC\n",
    "LIMIT 10\n",
    "  \"\"\"\n",
    "\n",
    "result = graph.run(query).to_data_frame()\n",
    "print(result)"
   ]
  },
  {
   "cell_type": "code",
   "execution_count": null,
   "metadata": {},
   "outputs": [],
   "source": [
    "#2 : Create a density of node degrees. Do you observe a power scale law ? What does it mean ?\n",
    "import seaborn as sns\n",
    "\n",
    "# Cypher Query\n",
    "query = \"\"\"\n",
    "MATCH (s)\n",
    "WITH s, size(()-[:RELATION]->(s)) as degree\n",
    "RETURN degree\n",
    "\"\"\"\n",
    "\n",
    "# Stream the data directly from Neo4j without loading it all into memory at once\n",
    "result = graph.run(query)\n",
    "\n",
    "# Extract degrees from the result\n",
    "degrees = [record[\"degree\"] for record in result]\n",
    "\n",
    "# Plot the distribution of degrees using sns.histplot()\n",
    "ax = sns.histplot(degrees, kde=True)\n",
    "ax.set_title(\"Density of degrees\")\n"
   ]
  },
  {
   "cell_type": "code",
   "execution_count": null,
   "metadata": {},
   "outputs": [],
   "source": [
    "#3 How many streamers has the tag \"mature\" ?\n",
    "\n",
    "# Neo4j connection details\n",
    "graph = py2neo.Graph(\"bolt://localhost:7687\", auth=(\"neo4j\", \"password_tuts\"), name=\"pubmed\")\n",
    "\n",
    "# Neo4j Cypher query\n",
    "query = \"\"\" \n",
    "MATCH (n:Streamer)\n",
    "WHERE n.mature = True\n",
    "RETURN count(n) as mature_streamers \n",
    "\"\"\"\n",
    "\n",
    "# Execute the query\n",
    "result = graph.run(query).to_data_frame()\n",
    "\n",
    "# Print the result\n",
    "print(f\"{result['mature_streamers'][0]} streamers have the tag 'mature'.\")\n"
   ]
  },
  {
   "cell_type": "code",
   "execution_count": null,
   "metadata": {},
   "outputs": [],
   "source": [
    "# 4. Is the collaboration correlated to the \"mature\" tag ?\n",
    "\n",
    "query = \"\"\"MATCH (s:Streamer)-[r:RELATION]->()\n",
    "WITH s.mature AS mature, count(r) AS collab_count\n",
    "RETURN mature, collab_count\n",
    " \"\"\"\n",
    "\n",
    "result = graph.run(query).to_data_frame()\n",
    "corr = result['mature'].corr(result['collab_count'])\n",
    "print(result)\n",
    "print(corr) "
   ]
  },
  {
   "cell_type": "code",
   "execution_count": null,
   "metadata": {},
   "outputs": [],
   "source": [
    "#5 Do partners collaborate more than non partners ?\n",
    "\n",
    "\n",
    "query1 = \"\"\"\n",
    "MATCH (n:Streamer)-[r:RELATION]->(m:Streamer)\n",
    "WHERE n <> m AND n.partner = True AND m.partner = True\n",
    "RETURN count(r) as collab_p\n",
    "\"\"\"\n",
    "\n",
    "# Execute the first query\n",
    "result1 = graph.run(query1).to_data_frame()\n",
    "\n",
    "# Query for non-partners collaboration\n",
    "query2 = \"\"\"\n",
    "MATCH (n:Streamer)-[r:RELATION]->(m:Streamer)\n",
    "WHERE n <> m AND n.partner = False AND m.partner = False\n",
    "RETURN count(r) as collab_np\n",
    "\"\"\"\n",
    "\n",
    "# Execute the second query\n",
    "result2 = graph.run(query2).to_data_frame()\n",
    "\n",
    "# Compare the results and print the conclusion\n",
    "if result1[\"collab_p\"][0] > result2[\"collab_np\"][0]:\n",
    "    print(\"Partners collaborate more than non-partners.\")\n",
    "else:\n",
    "    print(\"Non-partners collaborate more than partners.\")"
   ]
  },
  {
   "cell_type": "code",
   "execution_count": null,
   "metadata": {},
   "outputs": [],
   "source": [
    "#Real World Application 6 \n",
    "\n",
    "import pandas as pd\n",
    "from py2neo import Graph, Node, Relationship \n",
    "\n",
    "# File path to the CSV\n",
    "csv_file = \"stack_network_nodes.csv\"\n",
    "\n",
    "# Read the CSV data into a DataFrame\n",
    "data = pd.read_csv(csv_file)\n",
    "\n",
    "# Connect to the Neo4j database\n",
    "graph = Graph(\"bolt://localhost:7687\", auth=(\"neo4j\", \"password_tuts\"), name=\"stack\")\n",
    "\n",
    "# Create nodes in Neo4j from the CSV data\n",
    "for index, row in data.iterrows():\n",
    "    name = row['name']\n",
    "    group = row['group']\n",
    "    nodesize = row['nodesize']\n",
    "    \n",
    "    # Create a node with the corresponding attributes\n",
    "    node = Node(\"Node\", name=name, group=group, nodesize=nodesize)\n",
    "    \n",
    "    # Add the node to the database\n",
    "    graph.create(node)\n",
    "\n"
   ]
  },
  {
   "cell_type": "code",
   "execution_count": null,
   "metadata": {},
   "outputs": [],
   "source": [
    "from py2neo import NodeMatcher\n",
    "\n",
    "# File path to the CSV\n",
    "csv_links_file = \"stack_network_links.csv\"\n",
    "\n",
    "# Read the CSV data into a DataFrame\n",
    "links_data = pd.read_csv(csv_links_file)\n",
    "\n",
    "# Connect to the Neo4j database\n",
    "graph = Graph(\"bolt://localhost:7687\", auth=(\"neo4j\", \"password_tuts\"), name=\"stack\")\n",
    "\n",
    "# NodeMatcher for finding nodes by name\n",
    "node_matcher = NodeMatcher(graph)\n",
    "\n",
    "# Dictionary to store node names and their corresponding IDs\n",
    "node_ids = {node[\"name\"]: node.identity for node in node_matcher.match(\"Node\")}\n",
    "\n",
    "# Create relationships in Neo4j from the CSV link data\n",
    "for index, row in links_data.iterrows():\n",
    "    source_name = row['source']\n",
    "    target_name = row['target']\n",
    "    value = row['value']\n",
    "    \n",
    "    # Get the IDs of the source and target nodes\n",
    "    source_id = node_ids.get(source_name)\n",
    "    target_id = node_ids.get(target_name)\n",
    "    \n",
    "    # Check if source and target nodes exist in the database\n",
    "    if source_id is not None and target_id is not None:\n",
    "        # Create a relationship between the source and target nodes with the corresponding weight\n",
    "        relation = Relationship(graph.nodes[source_id], \"LINKS_TO\", graph.nodes[target_id], weight=value)\n",
    "        \n",
    "        # Add the relationship to the database\n",
    "        graph.create(relation)\n"
   ]
  },
  {
   "cell_type": "code",
   "execution_count": null,
   "metadata": {},
   "outputs": [],
   "source": [
    "#1 What are the 10 most popular keywords ?\n",
    "graph = py2neo.Graph(\"bolt://localhost:7687\", auth=(\"neo4j\", \"password_tuts\"), name=\"stack\")\n",
    "\n",
    "query = \"\"\"\n",
    "MATCH (t)\n",
    "RETURN t.name AS tag, sum(t.nodesize) AS popularity\n",
    "ORDER BY popularity DESC\n",
    "LIMIT 10\n",
    "\"\"\"\n",
    "\n",
    "# Execute the query and retrieve the results\n",
    "result = graph.run(query)\n",
    "\n",
    "# Print the results\n",
    "for record in result:\n",
    "    print(f\"{record['tag']} : {record['popularity']}\")"
   ]
  },
  {
   "cell_type": "code",
   "execution_count": null,
   "metadata": {},
   "outputs": [],
   "source": [
    "#2 : What are the top 10 Co-occurence ?\n",
    "graph = py2neo.Graph(\"bolt://localhost:7687\", auth=(\"neo4j\", \"password_tuts\"), name=\"stack\")\n",
    "\n",
    "query2 = \"\"\"MATCH (n1)-[:RELATION]->(n2)\n",
    "WITH n1, n2, COUNT(*) AS co_occurrences\n",
    "ORDER BY co_occurrences DESC\n",
    "LIMIT 10\n",
    "RETURN n1.name AS node1, n2.name AS node2, co_occurrences\n",
    "        \"\"\"\n",
    "\n",
    "results = graph.run(query).to_data_frame()\n",
    "print(\"The top 10 co_occurences are:\", results)\n"
   ]
  },
  {
   "cell_type": "code",
   "execution_count": null,
   "metadata": {},
   "outputs": [],
   "source": [
    "#3 : How many keywords are in group 1 ?\n",
    "from py2neo import Graph\n",
    "\n",
    "# Connect to the Neo4j database\n",
    "graph = Graph(\"bolt://localhost:7687\", auth=(\"neo4j\", \"password_tuts\"), name=\"stack\")\n",
    "\n",
    "# Cypher query to find the top 10 co-occurrences\n",
    "query = \"\"\"\n",
    "MATCH (k1:Node)-[:LINKS_TO]-(k2:Node)\n",
    "WHERE k1.name < k2.name\n",
    "RETURN k1.name AS Keyword1, k2.name AS Keyword2, COUNT(*) AS co_occurrences\n",
    "ORDER BY co_occurrences DESC\n",
    "LIMIT 10\n",
    "\"\"\"\n",
    "\n",
    "# Execute the query and retrieve the results\n",
    "result = graph.run(query)\n",
    "\n",
    "# Print the results\n",
    "for record in result:\n",
    "    print(f\"{record['Keyword1']} and {record['Keyword2']}: {record['co_occurrences']} co-occurrences\")\n"
   ]
  },
  {
   "cell_type": "code",
   "execution_count": null,
   "metadata": {},
   "outputs": [],
   "source": [
    "graph = Graph(\"bolt://localhost:7687\", auth=(\"neo4j\", \"password_tuts\"), name=\"stack\")\n",
    "\n",
    "# Cypher query to count keywords in group 1\n",
    "query = \"\"\"\n",
    "MATCH (n:Node)\n",
    "WHERE n.group = 1\n",
    "RETURN COUNT(n) AS keyword_count\n",
    "\"\"\"\n",
    "\n",
    "# Execute the query and retrieve the result\n",
    "result = graph.run(query)\n",
    "\n",
    "# Get the number of keywords in group 1 from the result\n",
    "keyword_count = result.evaluate()\n",
    "\n",
    "print(\"Number of keywords in group 1:\", keyword_count)\n"
   ]
  },
  {
   "cell_type": "code",
   "execution_count": null,
   "metadata": {},
   "outputs": [],
   "source": [
    "#4 : Is the Co-occurence correlated to the \"group\" of the keyword ?\n",
    "\n",
    "graph = Graph(\"bolt://localhost:7687\", auth=(\"neo4j\", \"password_tuts\"), name=\"stack\")\n",
    "\n",
    "# Cypher query to count co-occurrences within and outside the same group\n",
    "query = \"\"\"\n",
    "MATCH (t1:Node)-[r:LINKS_TO]->(t2:Node)\n",
    "WITH t1.group = t2.group AS same_group, COUNT(*) AS co_occurrences\n",
    "RETURN \n",
    "    SUM(CASE WHEN same_group THEN co_occurrences ELSE 0 END) AS co_occurrences_group,\n",
    "    SUM(CASE WHEN NOT same_group THEN co_occurrences ELSE 0 END) AS co_occurrences_NONgroup\n",
    "\"\"\"\n",
    "\n",
    "# Execute the query and retrieve the result\n",
    "result = graph.run(query).evaluate()\n",
    "\n",
    "# Print the results\n",
    "print(\"Co-occurrence within the same group:\", result['co_occurrences_group'])\n",
    "print(\"Co-occurrence outside the same group:\", result['co_occurrences_NONgroup'])\n"
   ]
  },
  {
   "cell_type": "code",
   "execution_count": null,
   "metadata": {},
   "outputs": [],
   "source": [
    "#5 Show the occurences of \"NoSQL\" overtime \n",
    "from py2neo import Graph\n",
    "import matplotlib.pyplot as plt\n",
    "\n",
    "# Connect to the Neo4j database\n",
    "graph = Graph(\"bolt://localhost:7687\", auth=(\"neo4j\", \"password_tuts\"), name=\"stack\")\n",
    "\n",
    "# Cypher query to count occurrences of \"NoSQL\" for each year\n",
    "query = \"\"\"\n",
    "MATCH (d:Document)\n",
    "WHERE d.text CONTAINS 'NoSQL'\n",
    "RETURN date(d.date).year AS year, count(*) AS occurrences\n",
    "ORDER BY year\n",
    "\"\"\"\n",
    "\n",
    "# Execute the query and retrieve the results\n",
    "result = graph.run(query)\n",
    "\n",
    "# Extract years and occurrences from the result\n",
    "years = []\n",
    "occurrences = []\n",
    "for record in result:\n",
    "    years.append(record['year'])\n",
    "    occurrences.append(record['occurrences'])\n",
    "\n",
    "# Plot the occurrences over time\n",
    "plt.plot(years, occurrences, marker='o')\n",
    "plt.xlabel('Year')\n",
    "plt.ylabel('Occurrences of \"NoSQL\"')\n",
    "plt.title('Occurrences of \"NoSQL\" over Time')\n",
    "plt.grid(True)\n",
    "plt.show()\n"
   ]
  }
 ],
 "metadata": {
  "kernelspec": {
   "display_name": "base",
   "language": "python",
   "name": "python3"
  },
  "language_info": {
   "codemirror_mode": {
    "name": "ipython",
    "version": 3
   },
   "file_extension": ".py",
   "mimetype": "text/x-python",
   "name": "python",
   "nbconvert_exporter": "python",
   "pygments_lexer": "ipython3",
   "version": "3.11.5"
  }
 },
 "nbformat": 4,
 "nbformat_minor": 2
}
