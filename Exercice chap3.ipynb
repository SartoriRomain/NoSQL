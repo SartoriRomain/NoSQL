{
 "cells": [
  {
   "cell_type": "code",
   "execution_count": 18,
   "metadata": {},
   "outputs": [
    {
     "data": {
      "text/plain": [
       "InsertOneResult(ObjectId('662a566e33b7e98b2b0ce791'), acknowledged=True)"
      ]
     },
     "execution_count": 18,
     "metadata": {},
     "output_type": "execute_result"
    }
   ],
   "source": [
    "##### EXERCICE CHAPITRE 3 #####\n",
    "### PARTIE 1 ###\n",
    "\n",
    "#1: Take the dict created in the TODO 4 in chapter I and save it in the collection \"CRUD_exercise\".\n",
    "\n",
    "import pymongo\n",
    "import tqdm\n",
    "import numpy as np\n",
    "\n",
    "client = pymongo.MongoClient(\"mongodb://localhost:27017/\")\n",
    "db = client[\"TODO\"]\n",
    "collection = db[\"CRUB_exercise\"]\n",
    "\n",
    "lecun_paper = {\n",
    "    \"title\": \"Deep Learning\",\n",
    "    \"authors\": {\n",
    "        \"Yann LeCun\": {\"affiliations\": [\"Facebook AI Research\", \"New York University\"]},\n",
    "        \"Yoshua Bengio\": {\"affiliations\": [\"Department of Computer Science and Operations Research Université de Montréal\"]},\n",
    "        \"Geoffrey Hinton\": {\"affiliations\": [\"Google\", \"Department of Computer Science, University of Toronto\"]}\n",
    "    }\n",
    "}\n",
    "goodfellow_paper = {\n",
    "    \"title\": \"Generative Adversarial Nets\",\n",
    "    \"authors\": {\n",
    "        \"Ian Goodfellow\": {\"affiliations\": [\"Universite de Montreal\"]},\n",
    "        \"Jean Pouget-Abadie\": {\"affiliations\": [\"Ecole Polytechnique\"]},\n",
    "        \"Mehdi Mirza\": {\"affiliations\": [\"Université de Montréal\"]},\n",
    "        \"Bing Xu\": {\"affiliations\": [\"Université de Montréal\"]},\n",
    "        \"David Warde-Farley\": {\"affiliations\": [\"Université de Montréal\"]},\n",
    "        \"Sherjil Ozair\": {\"affiliations\": [\"Indian Institute of Technology Delhi\"]},\n",
    "        \"Aaron Courville\": {\"affiliations\": [\"Université de Montréal\"]},\n",
    "        \"Yoshua Bengio\": {\"affiliations\": [\"CIFAR Senior Fellow\"]}\n",
    "    }\n",
    "}\n",
    "papers_dict = {\n",
    "    \"LeCun et al.\": lecun_paper,\n",
    "    \"Goodfellow et al.\": goodfellow_paper\n",
    "}\n",
    "\n",
    "collection.insert_one(papers_dict)\n"
   ]
  },
  {
   "cell_type": "code",
   "execution_count": 2,
   "metadata": {},
   "outputs": [
    {
     "name": "stdout",
     "output_type": "stream",
     "text": [
      "Documents avant la suppression :\n",
      "{'_id': ObjectId('662a2773b24ef03be462b554'), 'key': 'x', 'value': 4}\n",
      "{'_id': ObjectId('662a2773b24ef03be462b555'), 'key': 'x', 'value': 4}\n",
      "{'_id': ObjectId('662a397733b7e98b2bfda540'), 'key': 'x', 'value': 1}\n",
      "{'_id': ObjectId('662a397733b7e98b2bfda541'), 'key': 'x', 'value': 1}\n",
      "{'_id': ObjectId('662a397733b7e98b2bfda542'), 'key': 'x', 'value': 1}\n",
      "\n",
      "Documents après la suppression :\n",
      "{'_id': ObjectId('662a2773b24ef03be462b555'), 'key': 'x', 'value': 4}\n",
      "{'_id': ObjectId('662a397733b7e98b2bfda540'), 'key': 'x', 'value': 1}\n",
      "{'_id': ObjectId('662a397733b7e98b2bfda541'), 'key': 'x', 'value': 1}\n",
      "{'_id': ObjectId('662a397733b7e98b2bfda542'), 'key': 'x', 'value': 1}\n",
      "\n",
      "Il y a eu une erreur dans la suppression des documents.\n",
      "\n",
      "Documents après l'incrémentation de la valeur de x :\n",
      "{'_id': ObjectId('662a2773b24ef03be462b555'), 'key': 'x', 'value': 4}\n",
      "{'_id': ObjectId('662a397733b7e98b2bfda540'), 'key': 'x', 'value': 4}\n",
      "{'_id': ObjectId('662a397733b7e98b2bfda541'), 'key': 'x', 'value': 4}\n",
      "{'_id': ObjectId('662a397733b7e98b2bfda542'), 'key': 'x', 'value': 4}\n"
     ]
    }
   ],
   "source": [
    "#2 : Insert 3 documents with key = x and values = 1, delete one of them. Which one is deleted first ? the most recent or oldest one ? increment the value of x to 4.\n",
    "\n",
    "for i in range(1, 4):\n",
    "    collection.insert_one({\"key\": \"x\", \"value\": 1})\n",
    "\n",
    "# Afficher les documents avant la suppression\n",
    "print(\"Documents avant la suppression :\")\n",
    "for doc in collection.find({\"key\": \"x\"}):\n",
    "    print(doc)\n",
    "\n",
    "# Supprimer un des documents\n",
    "collection.delete_one({\"key\": \"x\"})\n",
    "\n",
    "# Afficher les documents après la suppression\n",
    "print(\"\\nDocuments après la suppression :\")\n",
    "for doc in collection.find({\"key\": \"x\"}):\n",
    "    print(doc)\n",
    "\n",
    "\n",
    "docs = list(collection.find({\"key\": \"x\"}).sort(\"_id\", pymongo.ASCENDING))\n",
    "if len(docs) == 2:\n",
    "    if docs[0][\"_id\"] < docs[1][\"_id\"]:\n",
    "        print(\"\\nLe document supprimé était le plus ancien.\")\n",
    "    else:\n",
    "        print(\"\\nLe document supprimé était le plus récent.\")\n",
    "else:\n",
    "    print(\"\\nIl y a eu une erreur dans la suppression des documents.\")\n",
    "\n",
    "collection.update_many({\"key\": \"x\"}, {\"$set\": {\"value\": 4}})\n",
    "\n",
    "print(\"\\nDocuments après l'incrémentation de la valeur de x :\")\n",
    "for doc in collection.find({\"key\": \"x\"}):\n",
    "    print(doc)\n"
   ]
  },
  {
   "cell_type": "code",
   "execution_count": 3,
   "metadata": {},
   "outputs": [],
   "source": [
    "# Le document supprimé est le plus ancien "
   ]
  },
  {
   "cell_type": "code",
   "execution_count": 17,
   "metadata": {},
   "outputs": [
    {
     "data": {
      "text/plain": [
       "InsertOneResult(ObjectId('662a55ba33b7e98b2b0ce78f'), acknowledged=True)"
      ]
     },
     "execution_count": 17,
     "metadata": {},
     "output_type": "execute_result"
    }
   ],
   "source": [
    "#3: Insert the dict created in the TODO 6 Chapter I in the example collection.\n",
    "###################  REFAIRE ##########################################\n",
    "\n",
    "import pymongo\n",
    "import json\n",
    "\n",
    "# Connect to MongoDB\n",
    "client = pymongo.MongoClient(\"mongodb://localhost:27017/\")\n",
    "db = client[\"tutorial\"]\n",
    "collection = db[\"example\"]\n",
    "\n",
    "# Load data from the JSON file\n",
    "with open('xml_data.json', 'r') as file:\n",
    "    data = json.load(file)\n",
    "\n",
    "# Insert the data into the collection\n",
    "collection.insert_one(data)\n",
    "\n",
    "\n",
    "\n"
   ]
  },
  {
   "cell_type": "code",
   "execution_count": 19,
   "metadata": {},
   "outputs": [
    {
     "name": "stdout",
     "output_type": "stream",
     "text": [
      "<pymongo.cursor.Cursor object at 0x000002BA0E379790>\n"
     ]
    }
   ],
   "source": [
    "#4 : Get documents where authors key exist in the collection \"CRUD_exercise\".\n",
    "client = pymongo.MongoClient(\"mongodb://localhost:27017/\")\n",
    "db = client[\"TODO\"]\n",
    "collection = db[\"CRUD_exercise\"]\n",
    "\n",
    "documents_with_authors = collection.find({\"authors\": {\"$exists\": True}})\n",
    "print(documents_with_authors)\n"
   ]
  },
  {
   "cell_type": "code",
   "execution_count": 9,
   "metadata": {},
   "outputs": [
    {
     "data": {
      "text/plain": [
       "UpdateResult({'n': 0, 'nModified': 0, 'ok': 1.0, 'updatedExisting': False}, acknowledged=True)"
      ]
     },
     "execution_count": 9,
     "metadata": {},
     "output_type": "execute_result"
    }
   ],
   "source": [
    "#5 : Change the documents where x = 4 to x = 1.\n",
    "\n",
    "collection.update_many({\"x\": 4}, {\"$set\": {\"x\": 1}})\n"
   ]
  },
  {
   "cell_type": "code",
   "execution_count": 15,
   "metadata": {},
   "outputs": [
    {
     "data": {
      "text/plain": [
       "UpdateResult({'n': 1, 'nModified': 1, 'ok': 1.0, 'updatedExisting': True}, acknowledged=True)"
      ]
     },
     "execution_count": 15,
     "metadata": {},
     "output_type": "execute_result"
    }
   ],
   "source": [
    "#6 : Find documents where author is not_mike and set author as real_mike.\n",
    "collection.update_many({\"author\": \"not_mike\"}, {\"$set\": {\"author\": \"real_mike\"}})\n"
   ]
  },
  {
   "cell_type": "code",
   "execution_count": 11,
   "metadata": {},
   "outputs": [
    {
     "data": {
      "text/plain": [
       "DeleteResult({'n': 0, 'ok': 1.0}, acknowledged=True)"
      ]
     },
     "execution_count": 11,
     "metadata": {},
     "output_type": "execute_result"
    }
   ],
   "source": [
    "#7 : Delete documents where author is real_mike\n",
    "collection.delete_many({\"author\": \"real_mike\"})\n"
   ]
  },
  {
   "cell_type": "code",
   "execution_count": null,
   "metadata": {},
   "outputs": [],
   "source": [
    "### PARTIE 2 ###"
   ]
  },
  {
   "cell_type": "code",
   "execution_count": 20,
   "metadata": {},
   "outputs": [
    {
     "name": "stdout",
     "output_type": "stream",
     "text": [
      "Temps sans index:  0.14007258415222168\n",
      "Temps avec index:  0.0\n"
     ]
    }
   ],
   "source": [
    "#8 : create a collection named \"CRUD_exercise_benchmark\" with 500k observations, ids increment of 2 (sequence:0,2,4,6,...1M). Give a random np.array with a key named \"values\" and use the insert_many. Then create an index on the id and benchmark queries before and after indexing. Did the index help ?\n",
    "\n",
    "import pymongo\n",
    "client = pymongo.MongoClient('localhost')\n",
    "mydb = client[\"TODO\"]\n",
    "collection = mydb[\"CRUD_exercise_benchmark\"]\n",
    "\n",
    "import numpy as np\n",
    "\n",
    "values = np.random.rand(500000, 4)\n",
    "docs = [{\"id\": i, \"values\": values[i//2].tolist()} for i in range(0, 1000000, 2)]\n",
    "\n",
    "collection.insert_many(docs)\n",
    "\n",
    "import time\n",
    "\n",
    "# No index\n",
    "start_time = time.time()\n",
    "docs = collection.find({\"id\": 100000})\n",
    "end_time = time.time()\n",
    "print(\"Temps sans index: \", end_time - start_time)\n",
    "\n",
    "# Index\n",
    "start_time = time.time()\n",
    "docs = collection.find({\"id\": 100000}).hint(\"id_1\")\n",
    "end_time = time.time()\n",
    "print(\"Temps avec index: \", end_time - start_time)\n"
   ]
  },
  {
   "cell_type": "code",
   "execution_count": 21,
   "metadata": {},
   "outputs": [
    {
     "data": {
      "text/plain": [
       "InsertManyResult([ObjectId('662a575833b7e98b2b1488b5')], acknowledged=True)"
      ]
     },
     "execution_count": 21,
     "metadata": {},
     "output_type": "execute_result"
    }
   ],
   "source": [
    "#9 : \n",
    "import pymongo\n",
    "client = pymongo.MongoClient(\"mongodb://localhost:27017/\")\n",
    "random_db = client[\"random_db\"]\n",
    "random_collection = random_db[\"random_collection\"]\n",
    "\n",
    "doc = {\"key\": \"value\"}\n",
    "random_collection.insert_one(doc)\n",
    "\n",
    "tutorial_db = client[\"tutorial\"]\n",
    "tutorial_collection = tutorial_db[\"tutorial_collection\"]\n",
    "tutorial_collection.insert_many(random_collection.find())"
   ]
  },
  {
   "cell_type": "code",
   "execution_count": null,
   "metadata": {},
   "outputs": [],
   "source": [
    "# 10 : \n",
    "# Inner join returns only the matching documents from both collections whereas outer join returns all documents \n",
    "# from both collections, including non-matching documents as null. The query seen during the course was an inner join."
   ]
  }
 ],
 "metadata": {
  "kernelspec": {
   "display_name": "base",
   "language": "python",
   "name": "python3"
  },
  "language_info": {
   "codemirror_mode": {
    "name": "ipython",
    "version": 3
   },
   "file_extension": ".py",
   "mimetype": "text/x-python",
   "name": "python",
   "nbconvert_exporter": "python",
   "pygments_lexer": "ipython3",
   "version": "3.11.5"
  }
 },
 "nbformat": 4,
 "nbformat_minor": 2
}
